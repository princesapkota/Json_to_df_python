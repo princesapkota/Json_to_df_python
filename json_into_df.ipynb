{
 "cells": [
  {
   "cell_type": "code",
   "execution_count": 147,
   "id": "38144796",
   "metadata": {},
   "outputs": [],
   "source": [
    "import os\n",
    "import json\n",
    "import pandas as pd\n",
    "from glob import glob\n",
    "import translators as ts"
   ]
  },
  {
   "cell_type": "code",
   "execution_count": 156,
   "id": "2e628edb",
   "metadata": {},
   "outputs": [],
   "source": [
    "# Helper: translate UTF-8 encoded Nepali text to English\n",
    "def utfToEng(text):\n",
    "    # If the input is in bytes, decode it first\n",
    "    print(f\"{text} -- {type(text)}\")\n",
    "    if isinstance(text, bytes):\n",
    "        try:\n",
    "            text = text.decode('utf-8')\n",
    "        except UnicodeDecodeError as e:\n",
    "            print(f\"Decoding error: {e} -> bytes: {text}\")\n",
    "            return text\n",
    "\n",
    "    # Now process if it's a proper non-empty string\n",
    "    if isinstance(text, str):\n",
    "        try:\n",
    "            return ts.translate_text(query_text=text, from_language='ne', to_language='en', translator='google')\n",
    "        except Exception as e:\n",
    "            print(f\"Translation error: {e} -> text: {text}\")\n",
    "            return text\n",
    "    return text\n"
   ]
  },
  {
   "cell_type": "code",
   "execution_count": 157,
   "id": "12a587c6",
   "metadata": {},
   "outputs": [
    {
     "name": "stdout",
     "output_type": "stream",
     "text": [
      "िवधालय मागर् -- <class 'str'>\n"
     ]
    },
    {
     "data": {
      "text/plain": [
       "'Duration'"
      ]
     },
     "execution_count": 157,
     "metadata": {},
     "output_type": "execute_result"
    }
   ],
   "source": [
    "utfToEng(\"\\u093f\\u0935\\u0927\\u093e\\u0932\\u092f \\u092e\\u093e\\u0917\\u0930\\u094d\")"
   ]
  },
  {
   "cell_type": "code",
   "execution_count": 150,
   "id": "69c7f39b",
   "metadata": {},
   "outputs": [],
   "source": [
    "json_folder=r\"C:\\Users\\ACER\\Desktop\\python projects\\jsondatapan\\data\"\n",
    "all_data=[]"
   ]
  },
  {
   "cell_type": "code",
   "execution_count": 151,
   "id": "8b254e30",
   "metadata": {},
   "outputs": [],
   "source": [
    "# --- Helper: Flatten panRegistrationDetail ---\n",
    "def flatten_pan_registration(details):\n",
    "    flattened={}\n",
    "    for i, entry in enumerate(details, start=1):\n",
    "        flattened[f\"pan_{i}\"] = entry.get(\"pan\")\n",
    "        flattened[f\"acctType_{i}\"] = entry.get(\"acctType\")\n",
    "        flattened[f\"registrationDate_{i}\"] = entry.get(\"registrationDate\")\n",
    "        flattened[f\"accountStatus_{i}\"] = entry.get(\"accountStatus\")\n",
    "        flattened[f\"filing_Period_{i}\"] = entry.get(\"filing_Period\")\n",
    "    return flattened\n",
    "    "
   ]
  },
  {
   "cell_type": "code",
   "execution_count": 152,
   "id": "b93ab2fe",
   "metadata": {},
   "outputs": [
    {
     "name": "stdout",
     "output_type": "stream",
     "text": [
      "Reading: C:\\Users\\ACER\\Desktop\\python projects\\jsondatapan\\data\\106796229_17-07-2025-16-04.json\n",
      "मैत्रीनगर -- <class 'str'>\n",
      "Translation error: module 'translators' has no attribute 'google' -> text: मैत्रीनगर\n",
      "✅ Processed: 106796229_17-07-2025-16-04.json - 25 fields extracted\n",
      "Reading: C:\\Users\\ACER\\Desktop\\python projects\\jsondatapan\\data\\111935785_17-07-2025-18-37.json\n",
      "िवधालय मागर् -- <class 'str'>\n",
      "Translation error: module 'translators' has no attribute 'google' -> text: िवधालय मागर्\n",
      "✅ Processed: 111935785_17-07-2025-18-37.json - 20 fields extracted\n",
      "Reading: C:\\Users\\ACER\\Desktop\\python projects\\jsondatapan\\data\\response_1752984286318.json\n",
      "ह्युमत् -- <class 'str'>\n",
      "Translation error: module 'translators' has no attribute 'google' -> text: ह्युमत्\n",
      "✅ Processed: response_1752984286318.json - 20 fields extracted\n",
      "Reading: C:\\Users\\ACER\\Desktop\\python projects\\jsondatapan\\data\\response_1752984624722.json\n",
      "कोलही टोल -- <class 'str'>\n",
      "Translation error: module 'translators' has no attribute 'google' -> text: कोलही टोल\n",
      "✅ Processed: response_1752984624722.json - 20 fields extracted\n"
     ]
    }
   ],
   "source": [
    "#looping through the json files\n",
    "for file_path in glob(os.path.join(json_folder, \"*.json\")):\n",
    "    print(f\"Reading: {file_path}\")\n",
    "    entry = {\"source_file\": os.path.basename(file_path)}\n",
    "    with open(file_path, \"r\", encoding=\"utf-8\") as f:\n",
    "        try:\n",
    "            raw = json.load(f)\n",
    "            if raw.get(\"panDetails\"):\n",
    "    \n",
    "                pan = raw[\"panDetails\"][0]\n",
    "                entry.update({\n",
    "                \"pan\": pan.get(\"pan\"),\n",
    "                \n",
    "                \"trade_Name_Eng\": pan.get(\"trade_Name_Eng\"),\n",
    "                \"ward_No\": pan.get(\"ward_No\"),\n",
    "                \"street_Name\": utfToEng(pan.get(\"street_Name\")),\n",
    "\n",
    "                \"vdc_Town\": pan.get(\"vdc_Town\"),\n",
    "                \"telephone\": pan.get(\"telephone\"),\n",
    "                \"mobile\": pan.get(\"mobile\"),\n",
    "                \"eff_Reg_Date\": pan.get(\"eff_Reg_Date\"),\n",
    "                \"acctType\": pan.get(\"acctType\"),\n",
    "                \"office_Name\": pan.get(\"office_Name\"),\n",
    "                #  \"office_nam_Eng\": utftoeng(pan.get(\"office_Name\"))\n",
    "                \"account_Status\": pan.get(\"account_Status\"),\n",
    "                \"is_Personal\": pan.get(\"is_Personal\")\n",
    "                })\n",
    "                \n",
    "            if raw.get(\"panRegistrationDetail\"):\n",
    "                entry.update(flatten_pan_registration(raw[\"panRegistrationDetail\"]))\n",
    "            \n",
    "            if raw.get(\"panTaxClearance\"):\n",
    "                if raw[\"panTaxClearance\"]:  # Check if array is not empty\n",
    "                    tax = raw[\"panTaxClearance\"][0]\n",
    "        \n",
    "                    entry[\"tax_clearance_exists\"] = tax.get(\"exists_Yn\")\n",
    "                    entry[\"tax_clearance_fy\"] = tax.get(\"fiscal_Year\")\n",
    "                    \n",
    "            all_data.append(entry)\n",
    "            print(f\"✅ Processed: {os.path.basename(file_path)} - {len(entry)} fields extracted\")\n",
    "            \n",
    "        except json.JSONDecodeError as e:\n",
    "            print(f\"Error reading {file_path}: {e}\")\n",
    "            continue\n",
    "        "
   ]
  },
  {
   "cell_type": "code",
   "execution_count": 153,
   "id": "c1e975b0",
   "metadata": {},
   "outputs": [
    {
     "name": "stdout",
     "output_type": "stream",
     "text": [
      "                       source_file        pan                  trade_Name_Eng  \\\n",
      "0  106796229_17-07-2025-16-04.json  106796229            Shrestha Liquar Stor   \n",
      "1  111935785_17-07-2025-18-37.json  111935785                   Bikram  Duwal   \n",
      "2      response_1752984286318.json  115853324                    Saroj  ahahi   \n",
      "3      response_1752984624722.json  133774304  New K.C. Electricals Suppliers   \n",
      "\n",
      "  ward_No   street_Name                 vdc_Town   telephone      mobile  \\\n",
      "0       2     मैत्रीनगर     कीर्तिपुर, नगरपालिका  9801146000  9801146000   \n",
      "1       5  िवधालय मागर्  मध्यपुर थिमी, नगरपालिका        None  9840011999   \n",
      "2      12       ह्युमत्   काठमाडौँ, महानगरपालिका        None  9802935100   \n",
      "3       5     कोलही टोल          लमही, नगरपालिका        None  9810960996   \n",
      "\n",
      "  eff_Reg_Date acctType  ... registrationDate_1  \\\n",
      "0   2072.05.27       10  ...         2072.05.27   \n",
      "1   2076.04.06       30  ...         2076.04.06   \n",
      "2   2076.05.16       30  ...         2076.05.16   \n",
      "3   2080.01.05       10  ...         2080.01.05   \n",
      "\n",
      "                                     accountStatus_1 filing_Period_1  \\\n",
      "0  Non-filer: 2073.074, 2074.075, 2075.076, 2076....               Y   \n",
      "1                                                  A               Y   \n",
      "2                                                  A               Y   \n",
      "3                      Non-filer: 2079.080, 2080.081               Y   \n",
      "\n",
      "         pan_2  acctType_2 registrationDate_2 accountStatus_2 filing_Period_2  \\\n",
      "0  106796229.0        20.0         2072.05.28               A               Y   \n",
      "1          NaN         NaN                NaN             NaN             NaN   \n",
      "2          NaN         NaN                NaN             NaN             NaN   \n",
      "3          NaN         NaN                NaN             NaN             NaN   \n",
      "\n",
      "   tax_clearance_exists  tax_clearance_fy  \n",
      "0                     Y          2075.076  \n",
      "1                     N              None  \n",
      "2                     N              None  \n",
      "3                     N              None  \n",
      "\n",
      "[4 rows x 25 columns]\n"
     ]
    }
   ],
   "source": [
    "\n",
    "\n",
    "# Create DataFrame\n",
    "df = pd.DataFrame(all_data)\n",
    "\n",
    "# Show sample\n",
    "print(df.head())\n",
    "\n",
    "# Save to CSV (optional)\n",
    "df.to_csv(\"flattenedpandata.csv\", index=False, encoding=\"utf-8\")"
   ]
  }
 ],
 "metadata": {
  "kernelspec": {
   "display_name": ".venv",
   "language": "python",
   "name": "python3"
  },
  "language_info": {
   "codemirror_mode": {
    "name": "ipython",
    "version": 3
   },
   "file_extension": ".py",
   "mimetype": "text/x-python",
   "name": "python",
   "nbconvert_exporter": "python",
   "pygments_lexer": "ipython3",
   "version": "3.12.3"
  }
 },
 "nbformat": 4,
 "nbformat_minor": 5
}
